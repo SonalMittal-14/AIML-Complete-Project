{
 "cells": [
  {
   "cell_type": "code",
   "execution_count": 1,
   "metadata": {},
   "outputs": [
    {
     "name": "stdout",
     "output_type": "stream",
     "text": [
      "Requirement already satisfied: nltk in c:\\users\\pc\\appdata\\local\\programs\\python\\python310\\lib\\site-packages (3.8.1)\n",
      "Requirement already satisfied: click in c:\\users\\pc\\appdata\\local\\programs\\python\\python310\\lib\\site-packages (from nltk) (8.1.3)\n",
      "Requirement already satisfied: joblib in c:\\users\\pc\\appdata\\local\\programs\\python\\python310\\lib\\site-packages (from nltk) (1.4.2)\n",
      "Requirement already satisfied: regex>=2021.8.3 in c:\\users\\pc\\appdata\\local\\programs\\python\\python310\\lib\\site-packages (from nltk) (2024.7.24)\n",
      "Requirement already satisfied: tqdm in c:\\users\\pc\\appdata\\local\\programs\\python\\python310\\lib\\site-packages (from nltk) (4.66.5)\n",
      "Requirement already satisfied: colorama in c:\\users\\pc\\appdata\\local\\programs\\python\\python310\\lib\\site-packages (from click->nltk) (0.4.6)\n"
     ]
    },
    {
     "name": "stderr",
     "output_type": "stream",
     "text": [
      "\n",
      "[notice] A new release of pip is available: 24.3.1 -> 25.0.1\n",
      "[notice] To update, run: python.exe -m pip install --upgrade pip\n"
     ]
    }
   ],
   "source": [
    "!pip install nltk"
   ]
  },
  {
   "cell_type": "markdown",
   "metadata": {},
   "source": [
    "Taken a random paragraph"
   ]
  },
  {
   "cell_type": "code",
   "execution_count": 1,
   "metadata": {},
   "outputs": [],
   "source": [
    "paragraph = \"\"\"\n",
    "Narendra Damodardas Modi[a] (born 17 September 1950)[b] is an Indian politician who has served as the prime minister of India since 2014. Modi was the chief minister of Gujarat from 2001 to 2014 and is the member of parliament (MP) for Varanasi. He is a member of the Bharatiya Janata Party (BJP) and of the Rashtriya Swayamsevak Sangh (RSS), a right-wing Hindu nationalist paramilitary volunteer organisation. He is the longest-serving prime minister outside the Indian National Congress.Modi was born and raised in Vadnagar in northeastern Gujarat, where he completed his secondary education. He was introduced to the RSS at the age of eight. At the age of 18, he was married to Jashodaben Modi, whom he abandoned soon after, only publicly acknowledging her four decades later when legally required to do so. Modi became a full-time worker for the RSS in Gujarat in 1971. The RSS assigned him to the BJP in 1985 and he rose through the party hierarchy, becoming general secretary in 1998.[c] In 2001, Modi was appointed chief minister of Gujarat and elected to the legislative assembly soon after. His administration is considered complicit in the 2002 Gujarat riots,[d] and has been criticised for its management of the crisis. According to official records, a little over 1,000 people were killed, three-quarters of whom were Muslim; independent sources estimated 2,000 deaths, mostly Muslim.[13] A Special Investigation Team appointed by the Supreme Court of India in 2012 found no evidence to initiate prosecution proceedings against him.[e] While his policies as chief minister were credited for encouraging economic growth, his administration was criticised for failing to significantly improve health, poverty and education indices in the state.\n",
    "\"\"\""
   ]
  },
  {
   "cell_type": "code",
   "execution_count": 2,
   "metadata": {},
   "outputs": [
    {
     "data": {
      "text/plain": [
       "'\\nNarendra Damodardas Modi[a] (born 17 September 1950)[b] is an Indian politician who has served as the prime minister of India since 2014. Modi was the chief minister of Gujarat from 2001 to 2014 and is the member of parliament (MP) for Varanasi. He is a member of the Bharatiya Janata Party (BJP) and of the Rashtriya Swayamsevak Sangh (RSS), a right-wing Hindu nationalist paramilitary volunteer organisation. He is the longest-serving prime minister outside the Indian National Congress.Modi was born and raised in Vadnagar in northeastern Gujarat, where he completed his secondary education. He was introduced to the RSS at the age of eight. At the age of 18, he was married to Jashodaben Modi, whom he abandoned soon after, only publicly acknowledging her four decades later when legally required to do so. Modi became a full-time worker for the RSS in Gujarat in 1971. The RSS assigned him to the BJP in 1985 and he rose through the party hierarchy, becoming general secretary in 1998.[c] In 2001, Modi was appointed chief minister of Gujarat and elected to the legislative assembly soon after. His administration is considered complicit in the 2002 Gujarat riots,[d] and has been criticised for its management of the crisis. According to official records, a little over 1,000 people were killed, three-quarters of whom were Muslim; independent sources estimated 2,000 deaths, mostly Muslim.[13] A Special Investigation Team appointed by the Supreme Court of India in 2012 found no evidence to initiate prosecution proceedings against him.[e] While his policies as chief minister were credited for encouraging economic growth, his administration was criticised for failing to significantly improve health, poverty and education indices in the state.\\n'"
      ]
     },
     "execution_count": 2,
     "metadata": {},
     "output_type": "execute_result"
    }
   ],
   "source": [
    "paragraph"
   ]
  },
  {
   "cell_type": "markdown",
   "metadata": {},
   "source": [
    "Importing some libraries"
   ]
  },
  {
   "cell_type": "code",
   "execution_count": 3,
   "metadata": {},
   "outputs": [],
   "source": [
    "import nltk \n",
    "from nltk.stem import PorterStemmer\n",
    "from nltk.corpus import stopwords"
   ]
  },
  {
   "cell_type": "markdown",
   "metadata": {},
   "source": [
    "Tokenization means convert paragraph into sentence and then sentence into words"
   ]
  },
  {
   "cell_type": "code",
   "execution_count": 4,
   "metadata": {},
   "outputs": [
    {
     "name": "stderr",
     "output_type": "stream",
     "text": [
      "[nltk_data] Downloading package punkt to\n",
      "[nltk_data]     C:\\Users\\PC\\AppData\\Roaming\\nltk_data...\n",
      "[nltk_data]   Package punkt is already up-to-date!\n"
     ]
    }
   ],
   "source": [
    "nltk.download('punkt')\n",
    "sentences = nltk.sent_tokenize(paragraph) # this converts paragraph into sentences and to use this we have to download punkt"
   ]
  },
  {
   "cell_type": "code",
   "execution_count": 5,
   "metadata": {},
   "outputs": [
    {
     "name": "stdout",
     "output_type": "stream",
     "text": [
      "['\\nNarendra Damodardas Modi[a] (born 17 September 1950)[b] is an Indian politician who has served as the prime minister of India since 2014.', 'Modi was the chief minister of Gujarat from 2001 to 2014 and is the member of parliament (MP) for Varanasi.', 'He is a member of the Bharatiya Janata Party (BJP) and of the Rashtriya Swayamsevak Sangh (RSS), a right-wing Hindu nationalist paramilitary volunteer organisation.', 'He is the longest-serving prime minister outside the Indian National Congress.Modi was born and raised in Vadnagar in northeastern Gujarat, where he completed his secondary education.', 'He was introduced to the RSS at the age of eight.', 'At the age of 18, he was married to Jashodaben Modi, whom he abandoned soon after, only publicly acknowledging her four decades later when legally required to do so.', 'Modi became a full-time worker for the RSS in Gujarat in 1971.', 'The RSS assigned him to the BJP in 1985 and he rose through the party hierarchy, becoming general secretary in 1998.', '[c] In 2001, Modi was appointed chief minister of Gujarat and elected to the legislative assembly soon after.', 'His administration is considered complicit in the 2002 Gujarat riots,[d] and has been criticised for its management of the crisis.', 'According to official records, a little over 1,000 people were killed, three-quarters of whom were Muslim; independent sources estimated 2,000 deaths, mostly Muslim.', '[13] A Special Investigation Team appointed by the Supreme Court of India in 2012 found no evidence to initiate prosecution proceedings against him.', '[e] While his policies as chief minister were credited for encouraging economic growth, his administration was criticised for failing to significantly improve health, poverty and education indices in the state.']\n"
     ]
    }
   ],
   "source": [
    "print(sentences)"
   ]
  },
  {
   "cell_type": "code",
   "execution_count": 6,
   "metadata": {},
   "outputs": [
    {
     "data": {
      "text/plain": [
       "list"
      ]
     },
     "execution_count": 6,
     "metadata": {},
     "output_type": "execute_result"
    }
   ],
   "source": [
    "type(sentences) # we have sentence in a list format"
   ]
  },
  {
   "cell_type": "markdown",
   "metadata": {},
   "source": [
    "Stemming"
   ]
  },
  {
   "cell_type": "code",
   "execution_count": 7,
   "metadata": {},
   "outputs": [],
   "source": [
    "stemmer = PorterStemmer()"
   ]
  },
  {
   "cell_type": "code",
   "execution_count": 8,
   "metadata": {},
   "outputs": [
    {
     "data": {
      "text/plain": [
       "'go'"
      ]
     },
     "execution_count": 8,
     "metadata": {},
     "output_type": "execute_result"
    }
   ],
   "source": [
    "stemmer.stem('going') # going is converted into its base root"
   ]
  },
  {
   "cell_type": "code",
   "execution_count": 9,
   "metadata": {},
   "outputs": [
    {
     "data": {
      "text/plain": [
       "'think'"
      ]
     },
     "execution_count": 9,
     "metadata": {},
     "output_type": "execute_result"
    }
   ],
   "source": [
    "stemmer.stem('thinking') # thinking is converted into its base root"
   ]
  },
  {
   "cell_type": "code",
   "execution_count": 10,
   "metadata": {},
   "outputs": [
    {
     "data": {
      "text/plain": [
       "'histori'"
      ]
     },
     "execution_count": 10,
     "metadata": {},
     "output_type": "execute_result"
    }
   ],
   "source": [
    "stemmer.stem('history') # history is converted into its base root"
   ]
  },
  {
   "cell_type": "markdown",
   "metadata": {},
   "source": [
    "Lemitization -> Actually helps you to find the base word but with the proper spelling"
   ]
  },
  {
   "cell_type": "code",
   "execution_count": 11,
   "metadata": {},
   "outputs": [
    {
     "name": "stderr",
     "output_type": "stream",
     "text": [
      "[nltk_data] Downloading package wordnet to\n",
      "[nltk_data]     C:\\Users\\PC\\AppData\\Roaming\\nltk_data...\n",
      "[nltk_data]   Package wordnet is already up-to-date!\n"
     ]
    }
   ],
   "source": [
    "nltk.download('wordnet')\n",
    "from nltk.stem import WordNetLemmatizer"
   ]
  },
  {
   "cell_type": "code",
   "execution_count": 12,
   "metadata": {},
   "outputs": [],
   "source": [
    "lemmatizer = WordNetLemmatizer()"
   ]
  },
  {
   "cell_type": "code",
   "execution_count": 13,
   "metadata": {},
   "outputs": [
    {
     "data": {
      "text/plain": [
       "'history'"
      ]
     },
     "execution_count": 13,
     "metadata": {},
     "output_type": "execute_result"
    }
   ],
   "source": [
    "lemmatizer.lemmatize('history') # history is converted into its base root with correct spelling"
   ]
  },
  {
   "cell_type": "code",
   "execution_count": 14,
   "metadata": {},
   "outputs": [
    {
     "data": {
      "text/plain": [
       "'go'"
      ]
     },
     "execution_count": 14,
     "metadata": {},
     "output_type": "execute_result"
    }
   ],
   "source": [
    "lemmatizer.lemmatize('goes')"
   ]
  },
  {
   "cell_type": "code",
   "execution_count": 15,
   "metadata": {},
   "outputs": [
    {
     "data": {
      "text/plain": [
       "'going'"
      ]
     },
     "execution_count": 15,
     "metadata": {},
     "output_type": "execute_result"
    }
   ],
   "source": [
    "lemmatizer.lemmatize('going')"
   ]
  },
  {
   "cell_type": "code",
   "execution_count": 16,
   "metadata": {},
   "outputs": [
    {
     "data": {
      "text/plain": [
       "13"
      ]
     },
     "execution_count": 16,
     "metadata": {},
     "output_type": "execute_result"
    }
   ],
   "source": [
    "len(sentences)"
   ]
  },
  {
   "cell_type": "markdown",
   "metadata": {},
   "source": [
    "Using Regular Expression"
   ]
  },
  {
   "cell_type": "code",
   "execution_count": 17,
   "metadata": {},
   "outputs": [],
   "source": [
    "import re # for cleaning the data \n",
    "corpus = []\n",
    "for i in range (len(sentences)):\n",
    "    review = re.sub('[^a-zA-Z]',' ',sentences[i]) # we have to remove the special character other than the words we are mentioning in the brakets \n",
    "    #expect a-z and A-Z whatever you get replace them with small character \n",
    "    review = review.lower() # to convert the complete text into lower case \n",
    "    # review = review.split()\n",
    "    corpus.append(review)"
   ]
  },
  {
   "cell_type": "code",
   "execution_count": 18,
   "metadata": {},
   "outputs": [
    {
     "data": {
      "text/plain": [
       "[' narendra damodardas modi a   born    september       b  is an indian politician who has served as the prime minister of india since      ',\n",
       " 'modi was the chief minister of gujarat from      to      and is the member of parliament  mp  for varanasi ',\n",
       " 'he is a member of the bharatiya janata party  bjp  and of the rashtriya swayamsevak sangh  rss   a right wing hindu nationalist paramilitary volunteer organisation ',\n",
       " 'he is the longest serving prime minister outside the indian national congress modi was born and raised in vadnagar in northeastern gujarat  where he completed his secondary education ',\n",
       " 'he was introduced to the rss at the age of eight ',\n",
       " 'at the age of     he was married to jashodaben modi  whom he abandoned soon after  only publicly acknowledging her four decades later when legally required to do so ',\n",
       " 'modi became a full time worker for the rss in gujarat in      ',\n",
       " 'the rss assigned him to the bjp in      and he rose through the party hierarchy  becoming general secretary in      ',\n",
       " ' c  in       modi was appointed chief minister of gujarat and elected to the legislative assembly soon after ',\n",
       " 'his administration is considered complicit in the      gujarat riots  d  and has been criticised for its management of the crisis ',\n",
       " 'according to official records  a little over       people were killed  three quarters of whom were muslim  independent sources estimated       deaths  mostly muslim ',\n",
       " '     a special investigation team appointed by the supreme court of india in      found no evidence to initiate prosecution proceedings against him ',\n",
       " ' e  while his policies as chief minister were credited for encouraging economic growth  his administration was criticised for failing to significantly improve health  poverty and education indices in the state ']"
      ]
     },
     "execution_count": 18,
     "metadata": {},
     "output_type": "execute_result"
    }
   ],
   "source": [
    "corpus"
   ]
  },
  {
   "cell_type": "markdown",
   "metadata": {},
   "source": [
    "Stopwords in English"
   ]
  },
  {
   "cell_type": "code",
   "execution_count": 19,
   "metadata": {},
   "outputs": [
    {
     "data": {
      "text/plain": [
       "['i',\n",
       " 'me',\n",
       " 'my',\n",
       " 'myself',\n",
       " 'we',\n",
       " 'our',\n",
       " 'ours',\n",
       " 'ourselves',\n",
       " 'you',\n",
       " \"you're\",\n",
       " \"you've\",\n",
       " \"you'll\",\n",
       " \"you'd\",\n",
       " 'your',\n",
       " 'yours',\n",
       " 'yourself',\n",
       " 'yourselves',\n",
       " 'he',\n",
       " 'him',\n",
       " 'his',\n",
       " 'himself',\n",
       " 'she',\n",
       " \"she's\",\n",
       " 'her',\n",
       " 'hers',\n",
       " 'herself',\n",
       " 'it',\n",
       " \"it's\",\n",
       " 'its',\n",
       " 'itself',\n",
       " 'they',\n",
       " 'them',\n",
       " 'their',\n",
       " 'theirs',\n",
       " 'themselves',\n",
       " 'what',\n",
       " 'which',\n",
       " 'who',\n",
       " 'whom',\n",
       " 'this',\n",
       " 'that',\n",
       " \"that'll\",\n",
       " 'these',\n",
       " 'those',\n",
       " 'am',\n",
       " 'is',\n",
       " 'are',\n",
       " 'was',\n",
       " 'were',\n",
       " 'be',\n",
       " 'been',\n",
       " 'being',\n",
       " 'have',\n",
       " 'has',\n",
       " 'had',\n",
       " 'having',\n",
       " 'do',\n",
       " 'does',\n",
       " 'did',\n",
       " 'doing',\n",
       " 'a',\n",
       " 'an',\n",
       " 'the',\n",
       " 'and',\n",
       " 'but',\n",
       " 'if',\n",
       " 'or',\n",
       " 'because',\n",
       " 'as',\n",
       " 'until',\n",
       " 'while',\n",
       " 'of',\n",
       " 'at',\n",
       " 'by',\n",
       " 'for',\n",
       " 'with',\n",
       " 'about',\n",
       " 'against',\n",
       " 'between',\n",
       " 'into',\n",
       " 'through',\n",
       " 'during',\n",
       " 'before',\n",
       " 'after',\n",
       " 'above',\n",
       " 'below',\n",
       " 'to',\n",
       " 'from',\n",
       " 'up',\n",
       " 'down',\n",
       " 'in',\n",
       " 'out',\n",
       " 'on',\n",
       " 'off',\n",
       " 'over',\n",
       " 'under',\n",
       " 'again',\n",
       " 'further',\n",
       " 'then',\n",
       " 'once',\n",
       " 'here',\n",
       " 'there',\n",
       " 'when',\n",
       " 'where',\n",
       " 'why',\n",
       " 'how',\n",
       " 'all',\n",
       " 'any',\n",
       " 'both',\n",
       " 'each',\n",
       " 'few',\n",
       " 'more',\n",
       " 'most',\n",
       " 'other',\n",
       " 'some',\n",
       " 'such',\n",
       " 'no',\n",
       " 'nor',\n",
       " 'not',\n",
       " 'only',\n",
       " 'own',\n",
       " 'same',\n",
       " 'so',\n",
       " 'than',\n",
       " 'too',\n",
       " 'very',\n",
       " 's',\n",
       " 't',\n",
       " 'can',\n",
       " 'will',\n",
       " 'just',\n",
       " 'don',\n",
       " \"don't\",\n",
       " 'should',\n",
       " \"should've\",\n",
       " 'now',\n",
       " 'd',\n",
       " 'll',\n",
       " 'm',\n",
       " 'o',\n",
       " 're',\n",
       " 've',\n",
       " 'y',\n",
       " 'ain',\n",
       " 'aren',\n",
       " \"aren't\",\n",
       " 'couldn',\n",
       " \"couldn't\",\n",
       " 'didn',\n",
       " \"didn't\",\n",
       " 'doesn',\n",
       " \"doesn't\",\n",
       " 'hadn',\n",
       " \"hadn't\",\n",
       " 'hasn',\n",
       " \"hasn't\",\n",
       " 'haven',\n",
       " \"haven't\",\n",
       " 'isn',\n",
       " \"isn't\",\n",
       " 'ma',\n",
       " 'mightn',\n",
       " \"mightn't\",\n",
       " 'mustn',\n",
       " \"mustn't\",\n",
       " 'needn',\n",
       " \"needn't\",\n",
       " 'shan',\n",
       " \"shan't\",\n",
       " 'shouldn',\n",
       " \"shouldn't\",\n",
       " 'wasn',\n",
       " \"wasn't\",\n",
       " 'weren',\n",
       " \"weren't\",\n",
       " 'won',\n",
       " \"won't\",\n",
       " 'wouldn',\n",
       " \"wouldn't\"]"
      ]
     },
     "execution_count": 19,
     "metadata": {},
     "output_type": "execute_result"
    }
   ],
   "source": [
    "stopwords.words('english')"
   ]
  },
  {
   "cell_type": "markdown",
   "metadata": {},
   "source": [
    "Now applying stemming in the corpus"
   ]
  },
  {
   "cell_type": "code",
   "execution_count": 20,
   "metadata": {},
   "outputs": [
    {
     "name": "stdout",
     "output_type": "stream",
     "text": [
      "narendra\n",
      "damodarda\n",
      "modi\n",
      "born\n",
      "septemb\n",
      "b\n",
      "indian\n",
      "politician\n",
      "serv\n",
      "prime\n",
      "minist\n",
      "india\n",
      "sinc\n",
      "modi\n",
      "chief\n",
      "minist\n",
      "gujarat\n",
      "member\n",
      "parliament\n",
      "mp\n",
      "varanasi\n",
      "member\n",
      "bharatiya\n",
      "janata\n",
      "parti\n",
      "bjp\n",
      "rashtriya\n",
      "swayamsevak\n",
      "sangh\n",
      "rss\n",
      "right\n",
      "wing\n",
      "hindu\n",
      "nationalist\n",
      "paramilitari\n",
      "volunt\n",
      "organis\n",
      "longest\n",
      "serv\n",
      "prime\n",
      "minist\n",
      "outsid\n",
      "indian\n",
      "nation\n",
      "congress\n",
      "modi\n",
      "born\n",
      "rais\n",
      "vadnagar\n",
      "northeastern\n",
      "gujarat\n",
      "complet\n",
      "secondari\n",
      "educ\n",
      "introduc\n",
      "rss\n",
      "age\n",
      "eight\n",
      "age\n",
      "marri\n",
      "jashodaben\n",
      "modi\n",
      "abandon\n",
      "soon\n",
      "publicli\n",
      "acknowledg\n",
      "four\n",
      "decad\n",
      "later\n",
      "legal\n",
      "requir\n",
      "modi\n",
      "becam\n",
      "full\n",
      "time\n",
      "worker\n",
      "rss\n",
      "gujarat\n",
      "rss\n",
      "assign\n",
      "bjp\n",
      "rose\n",
      "parti\n",
      "hierarchi\n",
      "becom\n",
      "gener\n",
      "secretari\n",
      "c\n",
      "modi\n",
      "appoint\n",
      "chief\n",
      "minist\n",
      "gujarat\n",
      "elect\n",
      "legisl\n",
      "assembl\n",
      "soon\n",
      "administr\n",
      "consid\n",
      "complicit\n",
      "gujarat\n",
      "riot\n",
      "criticis\n",
      "manag\n",
      "crisi\n",
      "accord\n",
      "offici\n",
      "record\n",
      "littl\n",
      "peopl\n",
      "kill\n",
      "three\n",
      "quarter\n",
      "muslim\n",
      "independ\n",
      "sourc\n",
      "estim\n",
      "death\n",
      "mostli\n",
      "muslim\n",
      "special\n",
      "investig\n",
      "team\n",
      "appoint\n",
      "suprem\n",
      "court\n",
      "india\n",
      "found\n",
      "evid\n",
      "initi\n",
      "prosecut\n",
      "proceed\n",
      "e\n",
      "polici\n",
      "chief\n",
      "minist\n",
      "credit\n",
      "encourag\n",
      "econom\n",
      "growth\n",
      "administr\n",
      "criticis\n",
      "fail\n",
      "significantli\n",
      "improv\n",
      "health\n",
      "poverti\n",
      "educ\n",
      "indic\n",
      "state\n"
     ]
    }
   ],
   "source": [
    "for i in corpus:\n",
    "    words = nltk.word_tokenize(i)\n",
    "    for word in words:\n",
    "        if word not in set(stopwords.words('english')):\n",
    "            print(stemmer.stem(word))"
   ]
  },
  {
   "cell_type": "markdown",
   "metadata": {},
   "source": [
    "Now applying Lemmatization in the corpus"
   ]
  },
  {
   "cell_type": "code",
   "execution_count": 21,
   "metadata": {},
   "outputs": [
    {
     "name": "stdout",
     "output_type": "stream",
     "text": [
      "narendra\n",
      "damodardas\n",
      "modi\n",
      "born\n",
      "september\n",
      "b\n",
      "indian\n",
      "politician\n",
      "served\n",
      "prime\n",
      "minister\n",
      "india\n",
      "since\n",
      "modi\n",
      "chief\n",
      "minister\n",
      "gujarat\n",
      "member\n",
      "parliament\n",
      "mp\n",
      "varanasi\n",
      "member\n",
      "bharatiya\n",
      "janata\n",
      "party\n",
      "bjp\n",
      "rashtriya\n",
      "swayamsevak\n",
      "sangh\n",
      "r\n",
      "right\n",
      "wing\n",
      "hindu\n",
      "nationalist\n",
      "paramilitary\n",
      "volunteer\n",
      "organisation\n",
      "longest\n",
      "serving\n",
      "prime\n",
      "minister\n",
      "outside\n",
      "indian\n",
      "national\n",
      "congress\n",
      "modi\n",
      "born\n",
      "raised\n",
      "vadnagar\n",
      "northeastern\n",
      "gujarat\n",
      "completed\n",
      "secondary\n",
      "education\n",
      "introduced\n",
      "r\n",
      "age\n",
      "eight\n",
      "age\n",
      "married\n",
      "jashodaben\n",
      "modi\n",
      "abandoned\n",
      "soon\n",
      "publicly\n",
      "acknowledging\n",
      "four\n",
      "decade\n",
      "later\n",
      "legally\n",
      "required\n",
      "modi\n",
      "became\n",
      "full\n",
      "time\n",
      "worker\n",
      "r\n",
      "gujarat\n",
      "r\n",
      "assigned\n",
      "bjp\n",
      "rose\n",
      "party\n",
      "hierarchy\n",
      "becoming\n",
      "general\n",
      "secretary\n",
      "c\n",
      "modi\n",
      "appointed\n",
      "chief\n",
      "minister\n",
      "gujarat\n",
      "elected\n",
      "legislative\n",
      "assembly\n",
      "soon\n",
      "administration\n",
      "considered\n",
      "complicit\n",
      "gujarat\n",
      "riot\n",
      "criticised\n",
      "management\n",
      "crisis\n",
      "according\n",
      "official\n",
      "record\n",
      "little\n",
      "people\n",
      "killed\n",
      "three\n",
      "quarter\n",
      "muslim\n",
      "independent\n",
      "source\n",
      "estimated\n",
      "death\n",
      "mostly\n",
      "muslim\n",
      "special\n",
      "investigation\n",
      "team\n",
      "appointed\n",
      "supreme\n",
      "court\n",
      "india\n",
      "found\n",
      "evidence\n",
      "initiate\n",
      "prosecution\n",
      "proceeding\n",
      "e\n",
      "policy\n",
      "chief\n",
      "minister\n",
      "credited\n",
      "encouraging\n",
      "economic\n",
      "growth\n",
      "administration\n",
      "criticised\n",
      "failing\n",
      "significantly\n",
      "improve\n",
      "health\n",
      "poverty\n",
      "education\n",
      "index\n",
      "state\n"
     ]
    }
   ],
   "source": [
    "for i in corpus:\n",
    "    words = nltk.word_tokenize(i)\n",
    "    for word in words:\n",
    "        if word not in set(stopwords.words('english')):\n",
    "            print(lemmatizer.lemmatize(word))"
   ]
  },
  {
   "cell_type": "code",
   "execution_count": 28,
   "metadata": {},
   "outputs": [],
   "source": [
    "# Applying stopwords -> Lemmatization\n",
    "\n",
    "import re \n",
    "corpus = []\n",
    "for i in range(len(sentences)):\n",
    "    review = re.sub('[^a-zA-Z]', ' ', sentences[i]) # removing all the special character expect all the words between a-z and A-z \n",
    "    review = review.lower()\n",
    "    review = review.split()\n",
    "    review = [lemmatizer.lemmatize(word) for word in review if not word in set(stopwords.words('english'))]\n",
    "    review = ' '.join(review)\n",
    "    corpus.append(review)\n",
    "    "
   ]
  },
  {
   "cell_type": "markdown",
   "metadata": {},
   "source": [
    "Bag of Words"
   ]
  },
  {
   "cell_type": "code",
   "execution_count": null,
   "metadata": {},
   "outputs": [],
   "source": [
    "from sklearn.feature_extraction.text import CountVectorizer\n",
    "cv = CountVectorizer(binary=True, ngram_range=(2,3)) # to have binary bag of words \n",
    "#this ngram of (3,3 ) will create the trigram \n",
    "# and in (2,3) it will consider both bigram as well as the trigrams"
   ]
  },
  {
   "cell_type": "code",
   "execution_count": 38,
   "metadata": {},
   "outputs": [],
   "source": [
    "X = cv.fit_transform(corpus)"
   ]
  },
  {
   "cell_type": "code",
   "execution_count": 39,
   "metadata": {},
   "outputs": [
    {
     "data": {
      "text/plain": [
       "{'narendra damodardas': 160,\n",
       " 'damodardas modi': 53,\n",
       " 'modi born': 151,\n",
       " 'born september': 32,\n",
       " 'september indian': 211,\n",
       " 'indian politician': 106,\n",
       " 'politician served': 184,\n",
       " 'served prime': 213,\n",
       " 'prime minister': 188,\n",
       " 'minister india': 141,\n",
       " 'india since': 103,\n",
       " 'narendra damodardas modi': 161,\n",
       " 'damodardas modi born': 54,\n",
       " 'modi born september': 153,\n",
       " 'born september indian': 33,\n",
       " 'september indian politician': 212,\n",
       " 'indian politician served': 107,\n",
       " 'politician served prime': 185,\n",
       " 'served prime minister': 214,\n",
       " 'prime minister india': 189,\n",
       " 'minister india since': 142,\n",
       " 'modi chief': 154,\n",
       " 'chief minister': 34,\n",
       " 'minister gujarat': 138,\n",
       " 'gujarat member': 86,\n",
       " 'member parliament': 134,\n",
       " 'parliament mp': 174,\n",
       " 'mp varanasi': 157,\n",
       " 'modi chief minister': 155,\n",
       " 'chief minister gujarat': 36,\n",
       " 'minister gujarat member': 140,\n",
       " 'gujarat member parliament': 87,\n",
       " 'member parliament mp': 135,\n",
       " 'parliament mp varanasi': 175,\n",
       " 'member bharatiya': 132,\n",
       " 'bharatiya janata': 24,\n",
       " 'janata party': 114,\n",
       " 'party bjp': 176,\n",
       " 'bjp rashtriya': 26,\n",
       " 'rashtriya swayamsevak': 198,\n",
       " 'swayamsevak sangh': 227,\n",
       " 'sangh right': 208,\n",
       " 'right wing': 202,\n",
       " 'wing hindu': 238,\n",
       " 'hindu nationalist': 94,\n",
       " 'nationalist paramilitary': 164,\n",
       " 'paramilitary volunteer': 172,\n",
       " 'volunteer organisation': 237,\n",
       " 'member bharatiya janata': 133,\n",
       " 'bharatiya janata party': 25,\n",
       " 'janata party bjp': 115,\n",
       " 'party bjp rashtriya': 177,\n",
       " 'bjp rashtriya swayamsevak': 27,\n",
       " 'rashtriya swayamsevak sangh': 199,\n",
       " 'swayamsevak sangh right': 228,\n",
       " 'sangh right wing': 209,\n",
       " 'right wing hindu': 203,\n",
       " 'wing hindu nationalist': 239,\n",
       " 'hindu nationalist paramilitary': 95,\n",
       " 'nationalist paramilitary volunteer': 165,\n",
       " 'paramilitary volunteer organisation': 173,\n",
       " 'longest serving': 127,\n",
       " 'serving prime': 215,\n",
       " 'minister outside': 143,\n",
       " 'outside indian': 170,\n",
       " 'indian national': 104,\n",
       " 'national congress': 162,\n",
       " 'congress modi': 41,\n",
       " 'born raised': 30,\n",
       " 'raised vadnagar': 196,\n",
       " 'vadnagar northeastern': 235,\n",
       " 'northeastern gujarat': 166,\n",
       " 'gujarat completed': 82,\n",
       " 'completed secondary': 37,\n",
       " 'secondary education': 210,\n",
       " 'longest serving prime': 128,\n",
       " 'serving prime minister': 216,\n",
       " 'prime minister outside': 190,\n",
       " 'minister outside indian': 144,\n",
       " 'outside indian national': 171,\n",
       " 'indian national congress': 105,\n",
       " 'national congress modi': 163,\n",
       " 'congress modi born': 42,\n",
       " 'modi born raised': 152,\n",
       " 'born raised vadnagar': 31,\n",
       " 'raised vadnagar northeastern': 197,\n",
       " 'vadnagar northeastern gujarat': 236,\n",
       " 'northeastern gujarat completed': 167,\n",
       " 'gujarat completed secondary': 83,\n",
       " 'completed secondary education': 38,\n",
       " 'introduced age': 110,\n",
       " 'age eight': 10,\n",
       " 'introduced age eight': 111,\n",
       " 'age married': 11,\n",
       " 'married jashodaben': 130,\n",
       " 'jashodaben modi': 116,\n",
       " 'modi abandoned': 145,\n",
       " 'abandoned soon': 0,\n",
       " 'soon publicly': 219,\n",
       " 'publicly acknowledging': 192,\n",
       " 'acknowledging four': 4,\n",
       " 'four decade': 75,\n",
       " 'decade later': 57,\n",
       " 'later legally': 120,\n",
       " 'legally required': 122,\n",
       " 'age married jashodaben': 12,\n",
       " 'married jashodaben modi': 131,\n",
       " 'jashodaben modi abandoned': 117,\n",
       " 'modi abandoned soon': 146,\n",
       " 'abandoned soon publicly': 1,\n",
       " 'soon publicly acknowledging': 220,\n",
       " 'publicly acknowledging four': 193,\n",
       " 'acknowledging four decade': 5,\n",
       " 'four decade later': 76,\n",
       " 'decade later legally': 58,\n",
       " 'later legally required': 121,\n",
       " 'modi became': 149,\n",
       " 'became full': 20,\n",
       " 'full time': 77,\n",
       " 'time worker': 233,\n",
       " 'worker gujarat': 240,\n",
       " 'modi became full': 150,\n",
       " 'became full time': 21,\n",
       " 'full time worker': 78,\n",
       " 'time worker gujarat': 234,\n",
       " 'assigned bjp': 18,\n",
       " 'bjp rose': 28,\n",
       " 'rose party': 206,\n",
       " 'party hierarchy': 178,\n",
       " 'hierarchy becoming': 92,\n",
       " 'becoming general': 22,\n",
       " 'general secretary': 79,\n",
       " 'assigned bjp rose': 19,\n",
       " 'bjp rose party': 29,\n",
       " 'rose party hierarchy': 207,\n",
       " 'party hierarchy becoming': 179,\n",
       " 'hierarchy becoming general': 93,\n",
       " 'becoming general secretary': 23,\n",
       " 'modi appointed': 147,\n",
       " 'appointed chief': 13,\n",
       " 'gujarat elected': 84,\n",
       " 'elected legislative': 63,\n",
       " 'legislative assembly': 123,\n",
       " 'assembly soon': 17,\n",
       " 'modi appointed chief': 148,\n",
       " 'appointed chief minister': 14,\n",
       " 'minister gujarat elected': 139,\n",
       " 'gujarat elected legislative': 85,\n",
       " 'elected legislative assembly': 64,\n",
       " 'legislative assembly soon': 124,\n",
       " 'administration considered': 6,\n",
       " 'considered complicit': 43,\n",
       " 'complicit gujarat': 39,\n",
       " 'gujarat riot': 88,\n",
       " 'riot criticised': 204,\n",
       " 'criticised management': 51,\n",
       " 'management crisis': 129,\n",
       " 'administration considered complicit': 7,\n",
       " 'considered complicit gujarat': 44,\n",
       " 'complicit gujarat riot': 40,\n",
       " 'gujarat riot criticised': 89,\n",
       " 'riot criticised management': 205,\n",
       " 'criticised management crisis': 52,\n",
       " 'according official': 2,\n",
       " 'official record': 168,\n",
       " 'record little': 200,\n",
       " 'little people': 125,\n",
       " 'people killed': 180,\n",
       " 'killed three': 118,\n",
       " 'three quarter': 231,\n",
       " 'quarter muslim': 194,\n",
       " 'muslim independent': 158,\n",
       " 'independent source': 98,\n",
       " 'source estimated': 221,\n",
       " 'estimated death': 67,\n",
       " 'death mostly': 55,\n",
       " 'mostly muslim': 156,\n",
       " 'according official record': 3,\n",
       " 'official record little': 169,\n",
       " 'record little people': 201,\n",
       " 'little people killed': 126,\n",
       " 'people killed three': 181,\n",
       " 'killed three quarter': 119,\n",
       " 'three quarter muslim': 232,\n",
       " 'quarter muslim independent': 195,\n",
       " 'muslim independent source': 159,\n",
       " 'independent source estimated': 99,\n",
       " 'source estimated death': 222,\n",
       " 'estimated death mostly': 68,\n",
       " 'death mostly muslim': 56,\n",
       " 'special investigation': 223,\n",
       " 'investigation team': 112,\n",
       " 'team appointed': 229,\n",
       " 'appointed supreme': 15,\n",
       " 'supreme court': 225,\n",
       " 'court india': 45,\n",
       " 'india found': 101,\n",
       " 'found evidence': 73,\n",
       " 'evidence initiate': 69,\n",
       " 'initiate prosecution': 108,\n",
       " 'prosecution proceeding': 191,\n",
       " 'special investigation team': 224,\n",
       " 'investigation team appointed': 113,\n",
       " 'team appointed supreme': 230,\n",
       " 'appointed supreme court': 16,\n",
       " 'supreme court india': 226,\n",
       " 'court india found': 46,\n",
       " 'india found evidence': 102,\n",
       " 'found evidence initiate': 74,\n",
       " 'evidence initiate prosecution': 70,\n",
       " 'initiate prosecution proceeding': 109,\n",
       " 'policy chief': 182,\n",
       " 'minister credited': 136,\n",
       " 'credited encouraging': 47,\n",
       " 'encouraging economic': 65,\n",
       " 'economic growth': 59,\n",
       " 'growth administration': 80,\n",
       " 'administration criticised': 8,\n",
       " 'criticised failing': 49,\n",
       " 'failing significantly': 71,\n",
       " 'significantly improve': 217,\n",
       " 'improve health': 96,\n",
       " 'health poverty': 90,\n",
       " 'poverty education': 186,\n",
       " 'education index': 61,\n",
       " 'index state': 100,\n",
       " 'policy chief minister': 183,\n",
       " 'chief minister credited': 35,\n",
       " 'minister credited encouraging': 137,\n",
       " 'credited encouraging economic': 48,\n",
       " 'encouraging economic growth': 66,\n",
       " 'economic growth administration': 60,\n",
       " 'growth administration criticised': 81,\n",
       " 'administration criticised failing': 9,\n",
       " 'criticised failing significantly': 50,\n",
       " 'failing significantly improve': 72,\n",
       " 'significantly improve health': 218,\n",
       " 'improve health poverty': 97,\n",
       " 'health poverty education': 91,\n",
       " 'poverty education index': 187,\n",
       " 'education index state': 62}"
      ]
     },
     "execution_count": 39,
     "metadata": {},
     "output_type": "execute_result"
    }
   ],
   "source": [
    "cv.vocabulary_"
   ]
  },
  {
   "cell_type": "code",
   "execution_count": 40,
   "metadata": {},
   "outputs": [
    {
     "data": {
      "text/plain": [
       "'narendra damodardas modi born september b indian politician served prime minister india since'"
      ]
     },
     "execution_count": 40,
     "metadata": {},
     "output_type": "execute_result"
    }
   ],
   "source": [
    "corpus[0]"
   ]
  },
  {
   "cell_type": "code",
   "execution_count": 41,
   "metadata": {},
   "outputs": [
    {
     "data": {
      "text/plain": [
       "array([[0, 0, 0, 0, 0, 0, 0, 0, 0, 0, 0, 0, 0, 0, 0, 0, 0, 0, 0, 0, 0, 0,\n",
       "        0, 0, 0, 0, 0, 0, 0, 0, 0, 0, 1, 1, 0, 0, 0, 0, 0, 0, 0, 0, 0, 0,\n",
       "        0, 0, 0, 0, 0, 0, 0, 0, 0, 1, 1, 0, 0, 0, 0, 0, 0, 0, 0, 0, 0, 0,\n",
       "        0, 0, 0, 0, 0, 0, 0, 0, 0, 0, 0, 0, 0, 0, 0, 0, 0, 0, 0, 0, 0, 0,\n",
       "        0, 0, 0, 0, 0, 0, 0, 0, 0, 0, 0, 0, 0, 0, 0, 1, 0, 0, 1, 1, 0, 0,\n",
       "        0, 0, 0, 0, 0, 0, 0, 0, 0, 0, 0, 0, 0, 0, 0, 0, 0, 0, 0, 0, 0, 0,\n",
       "        0, 0, 0, 0, 0, 0, 0, 0, 0, 1, 1, 0, 0, 0, 0, 0, 0, 0, 0, 1, 0, 1,\n",
       "        0, 0, 0, 0, 0, 0, 1, 1, 0, 0, 0, 0, 0, 0, 0, 0, 0, 0, 0, 0, 0, 0,\n",
       "        0, 0, 0, 0, 0, 0, 0, 0, 1, 1, 0, 0, 1, 1, 0, 0, 0, 0, 0, 0, 0, 0,\n",
       "        0, 0, 0, 0, 0, 0, 0, 0, 0, 0, 0, 0, 0, 1, 1, 1, 1, 0, 0, 0, 0, 0,\n",
       "        0, 0, 0, 0, 0, 0, 0, 0, 0, 0, 0, 0, 0, 0, 0, 0, 0, 0, 0, 0, 0]],\n",
       "      dtype=int64)"
      ]
     },
     "execution_count": 41,
     "metadata": {},
     "output_type": "execute_result"
    }
   ],
   "source": [
    "X[0].toarray()"
   ]
  },
  {
   "cell_type": "markdown",
   "metadata": {},
   "source": [
    "### Team Frequency and Inverce Document Frequency"
   ]
  },
  {
   "cell_type": "code",
   "execution_count": 54,
   "metadata": {},
   "outputs": [
    {
     "name": "stdout",
     "output_type": "stream",
     "text": [
      "(13, 10)\n"
     ]
    }
   ],
   "source": [
    "from sklearn.feature_extraction.text import TfidfVectorizer\n",
    "\n",
    "\n",
    "cv = TfidfVectorizer(ngram_range=(3,3), max_features=10) #max feature -> words that are atleast present 3 times\n",
    "X = cv.fit_transform(corpus)  # Fit and transform the corpus\n",
    "\n",
    "print(X.shape)  # Output the shape of the transformed matrix\n"
   ]
  },
  {
   "cell_type": "code",
   "execution_count": 55,
   "metadata": {},
   "outputs": [
    {
     "data": {
      "text/plain": [
       "'narendra damodardas modi born september b indian politician served prime minister india since'"
      ]
     },
     "execution_count": 55,
     "metadata": {},
     "output_type": "execute_result"
    }
   ],
   "source": [
    "corpus[0]"
   ]
  },
  {
   "cell_type": "code",
   "execution_count": 56,
   "metadata": {},
   "outputs": [
    {
     "data": {
      "text/plain": [
       "array([[0., 0., 1., 0., 0., 0., 0., 0., 0., 0.]])"
      ]
     },
     "execution_count": 56,
     "metadata": {},
     "output_type": "execute_result"
    }
   ],
   "source": [
    "X[0].toarray() # converting this into array"
   ]
  },
  {
   "cell_type": "code",
   "execution_count": null,
   "metadata": {},
   "outputs": [],
   "source": []
  }
 ],
 "metadata": {
  "kernelspec": {
   "display_name": "Python 3",
   "language": "python",
   "name": "python3"
  },
  "language_info": {
   "codemirror_mode": {
    "name": "ipython",
    "version": 3
   },
   "file_extension": ".py",
   "mimetype": "text/x-python",
   "name": "python",
   "nbconvert_exporter": "python",
   "pygments_lexer": "ipython3",
   "version": "3.10.1"
  }
 },
 "nbformat": 4,
 "nbformat_minor": 2
}
